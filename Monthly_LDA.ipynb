{
 "cells": [
  {
   "cell_type": "code",
   "execution_count": null,
   "metadata": {},
   "outputs": [],
   "source": [
    "import pandas as pd"
   ]
  },
  {
   "cell_type": "code",
   "execution_count": null,
   "metadata": {},
   "outputs": [],
   "source": [
    "# Checking date columns of the preprocessed .csv\n",
    "\n",
    "  # 1) Reading both .csv files\n",
    "df_r = pd.read_csv('df_r.csv')\n",
    "df_w = pd.read_csv('df_w.csv')\n",
    "\n",
    "  # 2) Getting the unique date values from each dataset\n",
    "dates_df_r = df_r['date'].value_counts().sort_index()\n",
    "dates_df_w = df_w['date'].value_counts().sort_index()\n",
    "\n",
    "  # 3) Printing results\n",
    "print(\"Unique dates and respective counts in Russian tweets dataset:\")\n",
    "print(dates_df_r)\n",
    "\n",
    "print(\"\\nUnique dates and respective counts in Western tweets dataset:\")\n",
    "print(dates_df_w)"
   ]
  },
  {
   "cell_type": "markdown",
   "metadata": {},
   "source": [
    "There are only three common months in both datasets: 2 (February), 3 (March), and 4 (April). We will only consider these three months for further monthly LDA comparisons."
   ]
  },
  {
   "cell_type": "code",
   "execution_count": null,
   "metadata": {},
   "outputs": [],
   "source": [
    "# Splitting each of the datasets into three new files, based on the month of the tweet\n",
    "\n",
    "df_r_2 = df_r[df_r['date'] == 2]\n",
    "df_r_3 = df_r[df_r['date'] == 3]\n",
    "df_r_4 = df_r[df_r['date'] == 4]\n",
    "\n",
    "df_w_2 = df_w[df_w['date'] == 2]\n",
    "df_w_3 = df_w[df_w['date'] == 3]\n",
    "df_w_4 = df_w[df_w['date'] == 4]\n",
    "\n",
    "# Checking the date values of the new dataframes to confirm if the split was effective\n",
    "print(\"Unique dates in the Feb Russian tweets dataset:\", df_r_2['date'].unique())\n",
    "print(\"Unique dates in the March Russian tweets dataset:\", df_r_3['date'].unique())\n",
    "print(\"Unique dates in the April Russian tweets dataset:\", df_r_4['date'].unique())\n",
    "print(\"\")\n",
    "print(\"Unique dates in the Feb Western tweets dataset:\", df_w_2['date'].unique())\n",
    "print(\"Unique dates in the March Western tweets dataset:\", df_w_3['date'].unique())\n",
    "print(\"Unique dates in the April Western tweets dataset:\", df_w_4['date'].unique())"
   ]
  },
  {
   "cell_type": "markdown",
   "metadata": {},
   "source": [
    "Now that we have confirmed that splitting the datasets based on date was done successfully, we can save them as separate .csv files so they can be further used for new LDA monthly comparisons."
   ]
  },
  {
   "cell_type": "code",
   "execution_count": null,
   "metadata": {},
   "outputs": [],
   "source": [
    "# Saving the split datasets as new .csv files to be easily accessible for further LDA analysis\n",
    "## Files will be saved on the current Colab session - they must be downloaded for reusal\n",
    "\n",
    "df_r_2.to_csv('df_r_2.csv', index = False)\n",
    "df_r_3.to_csv('df_r_3.csv', index = False)\n",
    "df_r_4.to_csv('df_r_4.csv', index = False)\n",
    "\n",
    "df_w_2.to_csv('df_w_2.csv', index = False)\n",
    "df_w_3.to_csv('df_w_3.csv', index = False)\n",
    "df_w_4.to_csv('df_w_4.csv', index = False)"
   ]
  },
  {
   "cell_type": "code",
   "execution_count": null,
   "metadata": {},
   "outputs": [],
   "source": [
    "# Checking if the new .csv files were successfuly saved\n",
    "\n",
    "df_r_2 = pd.read_csv('df_r_2.csv')\n",
    "df_r_3 = pd.read_csv('df_r_3.csv')\n",
    "df_r_4 = pd.read_csv('df_r_4.csv')\n",
    "\n",
    "df_w_2 = pd.read_csv('df_w_2.csv')\n",
    "df_w_3 = pd.read_csv('df_w_3.csv')\n",
    "df_w_4 = pd.read_csv('df_w_4.csv')\n",
    "\n",
    "# Checking if the number of rows in the new dataframes match with the value counts of each date\n",
    "print(\"Number of rows in the Feb Russian tweets dataset:\", df_r_2.shape[0])\n",
    "print(\"Number of rows in the March Russian tweets dataset:\", df_r_3.shape[0])\n",
    "print(\"Number of rows in the April Russian tweets dataset:\", df_r_4.shape[0])\n",
    "print(\"\")\n",
    "print(\"Number of rows in the Feb Western tweets dataset:\", df_w_2.shape[0])\n",
    "print(\"Number of rows in the March Western tweets dataset:\", df_w_3.shape[0])\n",
    "print(\"Number of rows in the April Western tweets dataset:\", df_w_4.shape[0])"
   ]
  },
  {
   "cell_type": "markdown",
   "metadata": {},
   "source": [
    "The number of rows in each of the new .csv files matches the value counts of each month in the preprocessed dataframes, indicating that the new files are now ready to be reused in the LDA analysis."
   ]
  }
 ],
 "metadata": {
  "language_info": {
   "name": "python"
  }
 },
 "nbformat": 4,
 "nbformat_minor": 2
}
